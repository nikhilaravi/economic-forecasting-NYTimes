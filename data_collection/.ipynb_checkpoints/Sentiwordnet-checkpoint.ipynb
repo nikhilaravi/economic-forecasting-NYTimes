{
 "cells": [
  {
   "cell_type": "code",
   "execution_count": 6,
   "metadata": {
    "collapsed": false
   },
   "outputs": [],
   "source": [
    "# Source code for sentinet: http://www.nltk.org/_modules/nltk/corpus/reader/sentiwordnet.html\n",
    "import nltk\n",
    "from nltk.corpus import sentiwordnet as swn"
   ]
  },
  {
   "cell_type": "code",
   "execution_count": 48,
   "metadata": {
    "collapsed": false
   },
   "outputs": [],
   "source": [
    "# A simple function to obtain the overall sentimate of a text chunk\n",
    "# Method: tokenise the text chunk, obtain the sentiment score of each token, then take mean average.\n",
    "# Note: you may need to separately install sentiwordnet: nltk.download('sentiwordnet')\n",
    "\n",
    "def simple_sentiment(text_chunk):\n",
    "    cumulative_pos_sentiment = 0\n",
    "    cumulative_neg_sentiment = 0\n",
    "    index = 0\n",
    "    \n",
    "    # Tokenizing the sample text\n",
    "    tokens=nltk.word_tokenize(text_chunk)\n",
    "    # Removing words of lenght 2 or less\n",
    "    tokens = [i for i in tokens if len(i)>=3]\n",
    "    \n",
    "    # a/n/v/r represent adjective/noun/verb/adverb respectively. They are used to index the sentinet dictionary.\n",
    "    for i in tokens:\n",
    "        if len(list(swn.senti_synsets(i, 'a')))>0:\n",
    "            cumulative_pos_sentiment += list(swn.senti_synsets(i, 'a'))[0].pos_score()\n",
    "            cumulative_neg_sentiment += list(swn.senti_synsets(i, 'a'))[0].neg_score()\n",
    "            index +=1\n",
    "        elif len(list(swn.senti_synsets(i, 'n')))>0:\n",
    "            cumulative_pos_sentiment += list(swn.senti_synsets(i, 'n'))[0].pos_score()\n",
    "            cumulative_neg_sentiment += list(swn.senti_synsets(i, 'n'))[0].neg_score()\n",
    "            index +=1\n",
    "        elif len(list(swn.senti_synsets(i, 'v')))>0:\n",
    "            cumulative_pos_sentiment += list(swn.senti_synsets(i, 'v'))[0].pos_score()\n",
    "            cumulative_neg_sentiment += list(swn.senti_synsets(i, 'v'))[0].neg_score()\n",
    "            index +=1\n",
    "        elif len(list(swn.senti_synsets(i, 'r')))>0:\n",
    "            cumulative_pos_sentiment += list(swn.senti_synsets(i, 'r'))[0].pos_score()\n",
    "            cumulative_neg_sentiment += list(swn.senti_synsets(i, 'r'))[0].neg_score()\n",
    "            index +=1\n",
    "        \n",
    "    avg_pos_sentiment = cumulative_pos_sentiment / float(index)\n",
    "    avg_neg_sentiment = cumulative_neg_sentiment / float(index)\n",
    "    \n",
    "    print('Positive sentiment:',avg_pos_sentiment)\n",
    "    print('Negative sentiment:',avg_neg_sentiment)\n",
    "    \n",
    "    return (avg_pos_sentiment,avg_neg_sentiment)"
   ]
  },
  {
   "cell_type": "code",
   "execution_count": 49,
   "metadata": {
    "collapsed": false,
    "scrolled": true
   },
   "outputs": [
    {
     "name": "stdout",
     "output_type": "stream",
     "text": [
      "Positive sentiment: 0.07942430703624734\n",
      "Negative sentiment: 0.054104477611940295\n"
     ]
    },
    {
     "data": {
      "text/plain": [
       "(0.07942430703624734, 0.054104477611940295)"
      ]
     },
     "execution_count": 49,
     "metadata": {},
     "output_type": "execute_result"
    }
   ],
   "source": [
    "sample_text = 'There\\'s no time to waste,\"Over the past few months, President Clinton has lost few opportunities to sing the praises of his favourite book. In November, he told a conference attended by Tony Blair that it was no longer necessary to choose between growth and environment. He took as evidence Natural Capitalism, The Next Industrial Revolution (Paul Hawken and Amory and Hunter Lovins, Earthscan, pounds 18.99), which \\'proves beyond argument that there are presently available technologies, and those just on the horizon, which will permit us to get richer by cleaning, not by spoiling, the environment. This is a huge deal,\\' Clinton said.   It\\'s a suitably millennial claim. The authors argue that \\'capitalism, as practised, is a financially profitable, nonsustainable aberration in human development... [which] does not fully conform to its own accounting principles. It liquidates its capital and calls it income. It neglects to assign any value to the largest stocks of capital it employs, the natural resources and living systems, as well as the social and cultural systems that are the basis of human capital.\\'   Companies, as has been well said, are brilliant externalising machines, pocketing the profits and shunting the costs of their enterprise on to the collectivity. Thus, the NHS pays for the profits of big tobacco, and the Government subsidises cars by building roads. Put it another way, business is a free rider on the environment and the services it provides, services which have been tentatively valued by Nature magazine at $36 trillion annually, roughly the same as world GDP.   The reason business is so profligate with the the environment (the \\'natural capital\\' of the book) is that its goods are assumed by economists to be free and infinitely substitutable. So they are uncosted. But in reality they are not free. They are produced by the earth\\'s 3.8-billion-year store of natural capital which, as the authors rehearse with hair-raising thoroughness, is being eroded so fast that by the end of this century there will be little left. And there is no conceivable substitute, for example, for the biosphere\\'s ability to produce oxygen.   The authors manage to recast this rush to disaster as a story with a (potentially) happier ending. Their grounds for optimism are partly familiar American technological optimism, if natural resources were treated as scarce and expensive, then nanotechnology and biotechnology could multiply four or even tenfold the outputs from today\\'s inputs. Hence Clinton\\'s enthusiasm.   But more crucial to the project is a complete mental flip of what an \\'output\\' consists of (as Edwin Land once said, a great idea is often \\'not having a new thought but stopping having an old one\\').   At present, it is entirely conceivable that one-quarter or even half of the GDP of advanced countries makes not value but waste. Most industrial processes, and the economy as a whole, are inefficient , at best achieving 10 per cent of their potential likewise their products. A car uses just 1 per cent of the energy it burns to propel the driver, the rest to warm the atmosphere, deafen pedestrians and shift ponderous steel boxes between traffic jams.   Moreover, waste is cumulative, so an increasing income has to be spent on alleviating growth\\'s byproducts, pollution, traffic accidents and congestion, crime. Hence the phenomenon of uneconomic growth, where increases in nominal wealth produce no net gain in quality of life or standard of living: in real terms 80 per cent of Americans are no better off than they were in 1979.   However, the grossness of the waste is, say the authors, also a measure of the huge potential for improvement if the spiral changed to virtuous. The secret is taking a systems view in which it is always more expensive to get rid of waste than to design it out in the first place. Given the wastefulness of most current systems, improvements of 10 to 100 times in overall efficiency are possible even with existing technology.   Much of what the Lovins and Hawken propose is not new. Frances Cairncross wrote about costing the earth 10 years ago, and Richard Schonberger coined the term \\'frugal manufacturing\\' in the 1980s. What is new is the way these ideas are brought together in a systems approach to business and the environment, and the coopting of markets as the mechanism which can be used to turn things around.   There is some irony here, of course. The greatest obstacle to \\'natural capitalism\\' in practice will be the vested interests and special pleading of those most vociferous champions of capitalist orthodoxy, US companies, which emerge from this book the masters of the perverse, not to mention grotesque, hidden subsidy, whether of agriculture, cars, or their wealthy executives.   Persuading them to confront their own bad faith will be no easy matter. But, as someone once said, the economy is a wholly-owned subsidiary of the environment, and time is running out for the parent to bring it to heel.'\n",
    "simple_sentiment(sample_text)"
   ]
  },
  {
   "cell_type": "code",
   "execution_count": 50,
   "metadata": {
    "collapsed": false
   },
   "outputs": [
    {
     "name": "stdout",
     "output_type": "stream",
     "text": [
      "Positive sentiment: 0.0589622641509434\n",
      "Negative sentiment: 0.025943396226415096\n"
     ]
    },
    {
     "data": {
      "text/plain": [
       "(0.0589622641509434, 0.025943396226415096)"
      ]
     },
     "execution_count": 50,
     "metadata": {},
     "output_type": "execute_result"
    }
   ],
   "source": [
    "sample_text_2 = 'Sir Patrick called the upcoming referendum on the 23rd June the “biggest political decision of our generation” and predicted the remain vote will prevail but said: “Nevertheless the fact that so many fellow British citizens want to leave Europe is shocking. Standing alone was how we were in 1940. Why campaign to put us back there? I do not understand this thirst for isolationism […] Let this just be a passing insecurity and let us once more embrace reality, philosophy, common sense and hope for our country,” he wrote. '\n",
    "simple_sentiment(sample_text_2)"
   ]
  },
  {
   "cell_type": "code",
   "execution_count": null,
   "metadata": {
    "collapsed": true
   },
   "outputs": [],
   "source": []
  }
 ],
 "metadata": {
  "anaconda-cloud": {},
  "kernelspec": {
   "display_name": "Python [Root]",
   "language": "python",
   "name": "Python [Root]"
  },
  "language_info": {
   "codemirror_mode": {
    "name": "ipython",
    "version": 2
   },
   "file_extension": ".py",
   "mimetype": "text/x-python",
   "name": "python",
   "nbconvert_exporter": "python",
   "pygments_lexer": "ipython2",
   "version": "2.7.12"
  }
 },
 "nbformat": 4,
 "nbformat_minor": 0
}
